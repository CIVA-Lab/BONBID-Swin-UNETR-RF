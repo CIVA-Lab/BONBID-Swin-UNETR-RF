{
 "cells": [
  {
   "cell_type": "code",
   "execution_count": null,
   "metadata": {},
   "outputs": [],
   "source": [
    "import matplotlib.pyplot as plt\n",
    "from evalutils.io import SimpleITKLoader\n",
    "import SimpleITK\n",
    "import numpy as np"
   ]
  },
  {
   "cell_type": "code",
   "execution_count": null,
   "metadata": {},
   "outputs": [],
   "source": [
    "def load_mha(path):\n",
    "  loader = SimpleITKLoader()\n",
    "  im = loader.load_image(path)\n",
    "  im = SimpleITK.GetArrayFromImage(im)\n",
    "  return im"
   ]
  },
  {
   "cell_type": "code",
   "execution_count": null,
   "metadata": {},
   "outputs": [],
   "source": [
    "arr = load_mha('./output/images/hie-lesion-segmentation/overlay.mha')\n",
    "# arr = load_mha('/usr/mvl2/itdfh/dev/BONBID-HIE-MICCAI2023/bonbidhie_eval/test/MGHNICU_010-VISIT_01_lesion.mha')"
   ]
  },
  {
   "cell_type": "code",
   "execution_count": null,
   "metadata": {},
   "outputs": [],
   "source": [
    "idx, = np.where(arr.max(axis=(1, 2)))\n",
    "cols = 4\n",
    "rows = int(np.ceil(len(idx) / cols))\n",
    "\n",
    "fig, axs = plt.subplots(rows, cols, figsize=(3 * cols, 3 * rows),\n",
    "                        sharex=True, sharey=True)\n",
    "for i, ax in zip(idx, axs.ravel()):\n",
    "  ax.imshow(arr[i], cmap='gray')\n",
    "plt.tight_layout()\n",
    "fig.show()"
   ]
  },
  {
   "cell_type": "code",
   "execution_count": null,
   "metadata": {},
   "outputs": [],
   "source": []
  }
 ],
 "metadata": {
  "kernelspec": {
   "display_name": "monai",
   "language": "python",
   "name": "python3"
  },
  "language_info": {
   "codemirror_mode": {
    "name": "ipython",
    "version": 3
   },
   "file_extension": ".py",
   "mimetype": "text/x-python",
   "name": "python",
   "nbconvert_exporter": "python",
   "pygments_lexer": "ipython3",
   "version": "3.9.16"
  },
  "orig_nbformat": 4
 },
 "nbformat": 4,
 "nbformat_minor": 2
}
